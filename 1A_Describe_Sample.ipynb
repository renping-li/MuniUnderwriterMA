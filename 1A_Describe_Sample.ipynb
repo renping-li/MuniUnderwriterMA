{
 "cells": [
  {
   "cell_type": "code",
   "execution_count": 1,
   "id": "031d3dc9-ff54-4ab8-a2e3-e7e27da80caa",
   "metadata": {
    "execution": {
     "iopub.execute_input": "2024-03-03T08:07:07.914708Z",
     "iopub.status.busy": "2024-03-03T08:07:07.914335Z",
     "iopub.status.idle": "2024-03-03T08:07:08.590999Z",
     "shell.execute_reply": "2024-03-03T08:07:08.590747Z"
    }
   },
   "outputs": [],
   "source": [
    "import pandas as pd\n",
    "import numpy as np\n",
    "import os\n",
    "import dask\n",
    "import dask.dataframe as dd\n",
    "import itertools\n",
    "from itertools import chain\n",
    "from math import sqrt, floor, ceil, isnan\n",
    "import multiprocess\n",
    "import multiprocessing\n",
    "import importlib\n",
    "from importlib import reload\n",
    "from collections import Counter\n",
    "from fuzzywuzzy import process, fuzz\n",
    "import time\n",
    "import geopandas as gpd\n",
    "import matplotlib.cm as cm\n",
    "import matplotlib.colors as mcolors\n",
    "import matplotlib.pyplot as plt\n",
    "import warnings\n",
    "warnings.filterwarnings(\"error\")\n",
    "\n",
    "pd.options.display.max_columns = 500\n",
    "pd.options.display.max_rows = 1000\n",
    "pd.options.display.max_colwidth = 400\n"
   ]
  },
  {
   "cell_type": "markdown",
   "id": "202232ed-9809-4afc-a97a-33e5e2891326",
   "metadata": {},
   "source": [
    "# 1. Import Data"
   ]
  },
  {
   "cell_type": "code",
   "execution_count": 2,
   "id": "3a912272-96ab-4d6f-8db7-014ab63712b6",
   "metadata": {
    "execution": {
     "iopub.execute_input": "2024-03-03T08:07:08.592688Z",
     "iopub.status.busy": "2024-03-03T08:07:08.592547Z",
     "iopub.status.idle": "2024-03-03T08:07:19.043489Z",
     "shell.execute_reply": "2024-03-03T08:07:19.043238Z"
    }
   },
   "outputs": [],
   "source": [
    "# GPF\n",
    "GPF = pd.read_csv(\"../CleanData/SDC/0A_GPF.csv\",low_memory=False)\n",
    "raw_name_GPF_colnames = [column for column in GPF.columns if 'raw_name_GPF_' in column]\n",
    "name_GPF_colnames = ['name_GPF_'+str(i) for i in range(0,len(raw_name_GPF_colnames))]\n",
    "parent_name_colnames = ['parent_name_'+str(i) for i in range(0,len(raw_name_GPF_colnames))]\n"
   ]
  },
  {
   "cell_type": "markdown",
   "id": "195e3908-b007-41df-ab93-eaa69772cc24",
   "metadata": {},
   "source": [
    "**Top 10 banks of all time**"
   ]
  },
  {
   "cell_type": "code",
   "execution_count": 3,
   "id": "ec1a8868-8b0d-4a52-95d5-3e079cde502e",
   "metadata": {
    "execution": {
     "iopub.execute_input": "2024-03-03T08:07:19.045154Z",
     "iopub.status.busy": "2024-03-03T08:07:19.045074Z",
     "iopub.status.idle": "2024-03-03T08:07:19.068406Z",
     "shell.execute_reply": "2024-03-03T08:07:19.068073Z"
    }
   },
   "outputs": [],
   "source": [
    "%%script false --no-raise-error\n",
    "\n",
    "name_GPFs = list(chain.from_iterable(list(np.array(\n",
    "    GPF[(GPF['sale_year']>=1970)&(GPF['sale_year']<=2023)][name_GPF_colnames]))))\n",
    "name_GPFs = [item for item in name_GPFs if item!=None]\n",
    "name_GPFs = [item for item in name_GPFs if str(item)!='nan']\n",
    "name_GPFs = Counter(name_GPFs).most_common()\n",
    "print('10 banks with most sales are:')\n",
    "print(*name_GPFs[:10],sep='\\n')\n",
    "name_GPFs = [item[0] for item in name_GPFs]"
   ]
  },
  {
   "cell_type": "markdown",
   "id": "8140d51c-3af8-472b-8aef-c09a8ec2c6a2",
   "metadata": {},
   "source": [
    "# 2. Plot market shares"
   ]
  },
  {
   "cell_type": "markdown",
   "id": "57335bb9-763e-45c4-8041-6e696e9422c2",
   "metadata": {},
   "source": [
    "## 2.1 Calculate CSA X year level market share"
   ]
  },
  {
   "cell_type": "code",
   "execution_count": 4,
   "id": "e59aa66f-ade7-428d-b294-60cf403ccba4",
   "metadata": {
    "execution": {
     "iopub.execute_input": "2024-03-03T08:07:19.070139Z",
     "iopub.status.busy": "2024-03-03T08:07:19.070030Z",
     "iopub.status.idle": "2024-03-03T08:07:19.085582Z",
     "shell.execute_reply": "2024-03-03T08:07:19.085262Z"
    }
   },
   "outputs": [],
   "source": [
    "%%script false --no-raise-error\n",
    "\n",
    "# %%time\n",
    "\n",
    "###################################################\n",
    "# Number of deals of each bank in each CSA X year #\n",
    "###################################################\n",
    "\n",
    "name_GPFs = list(chain.from_iterable(list(np.array(GPF[parent_name_GPF_colnames]))))\n",
    "name_GPFs = [item for item in name_GPFs if item!=None]\n",
    "name_GPFs = [item for item in name_GPFs if str(item)!='nan']\n",
    "name_GPFs = list(set(name_GPFs))\n",
    "name_GPFs = Counter(name_GPFs).most_common()\n",
    "name_GPFs = [item[0] for item in name_GPFs]\n",
    "CSAs = list(GPF['CSA Code'].unique())\n",
    "deals_by_CSA_bank_year = {(item1,item2,item3): 0 for item1 in name_GPFs for item2 in CSAs for item3 in range(1967,2024)}\n",
    "\n",
    "# Get the number of deals by CSA X bank\n",
    "for idx,row in GPF.iterrows():\n",
    "    for column in parent_name_GPF_colnames:\n",
    "        # To avoid NaN causing errors\n",
    "        if row['CSA Code'] in CSAs and row[column] in name_GPFs and row['sale_year'] in list(range(1967,2024)):\n",
    "            deals_by_CSA_bank_year[(row[column],row['CSA Code'],row['sale_year'])] = deals_by_CSA_bank_year[(row[column],row['CSA Code'],row['sale_year'])]+1\n",
    "# Convert dict to a dataframe\n",
    "deals_by_CSA_bank_year = pd.DataFrame.from_dict(deals_by_CSA_bank_year,orient='index').reset_index()\n",
    "deals_by_CSA_bank_year[['name_GPF','CSA Code','sale_year']] = deals_by_CSA_bank_year['index'].astype(str).str.split(',',expand=True)\n",
    "deals_by_CSA_bank_year['name_GPF'] = deals_by_CSA_bank_year['name_GPF'].str.replace('(','',regex=False)\n",
    "deals_by_CSA_bank_year['name_GPF'] = deals_by_CSA_bank_year['name_GPF'].str.replace(\"'\",'',regex=False)\n",
    "deals_by_CSA_bank_year['CSA Code'] = deals_by_CSA_bank_year['CSA Code'].str.replace(\"'\",'',regex=False)\n",
    "deals_by_CSA_bank_year['sale_year'] = deals_by_CSA_bank_year['sale_year'].str.replace(')','',regex=False)\n",
    "deals_by_CSA_bank_year['sale_year'] = deals_by_CSA_bank_year['sale_year'].str.replace(\"'\",'',regex=False)\n",
    "deals_by_CSA_bank_year.rename(columns={0:'n_deals'},inplace=True)\n",
    "deals_by_CSA_bank_year.drop(columns=['index'],inplace=True)\n",
    "deals_by_CSA_bank_year = deals_by_CSA_bank_year[~deals_by_CSA_bank_year['CSA Code'].str.contains('nan')]\n",
    "deals_by_CSA_bank_year['CSA Code'] = deals_by_CSA_bank_year['CSA Code'].str.strip()\n",
    "deals_by_CSA_bank_year['CSA Code'] = deals_by_CSA_bank_year['CSA Code'].astype(float).astype(int)\n",
    "\n",
    "# Obtain market share\n",
    "deals_by_CSA_bank_year = deals_by_CSA_bank_year.merge(\n",
    "    pd.DataFrame(deals_by_CSA_bank_year.groupby(['CSA Code','sale_year']).agg({'n_deals':sum}).reset_index()).rename(columns={'n_deals':'state_n_deals'}),\n",
    "    on=['CSA Code','sale_year'])\n",
    "deals_by_CSA_bank_year['CSA_market_share'] = deals_by_CSA_bank_year['n_deals']/deals_by_CSA_bank_year['state_n_deals']\n",
    "deals_by_CSA_bank_year['sale_year'] = deals_by_CSA_bank_year['sale_year'].astype(int)\n",
    "deals_by_CSA_bank_year = deals_by_CSA_bank_year[~pd.isnull(deals_by_CSA_bank_year['CSA_market_share'])]"
   ]
  },
  {
   "cell_type": "markdown",
   "id": "c8fa0cd3-3dc6-4b7d-9949-99cbaea5f3dc",
   "metadata": {},
   "source": [
    "## 2.2 Functions that plot market share"
   ]
  },
  {
   "cell_type": "markdown",
   "id": "359ffe69-3370-4661-9bc5-2ff46b46d2e8",
   "metadata": {},
   "source": [
    "### 2.2.1 A function that plots market share of any bank in any year by CSA"
   ]
  },
  {
   "cell_type": "code",
   "execution_count": 5,
   "id": "3283d690-5cc6-4ace-954e-a9dde0b700e4",
   "metadata": {
    "execution": {
     "iopub.execute_input": "2024-03-03T08:07:19.087201Z",
     "iopub.status.busy": "2024-03-03T08:07:19.087126Z",
     "iopub.status.idle": "2024-03-03T08:07:19.102413Z",
     "shell.execute_reply": "2024-03-03T08:07:19.102083Z"
    }
   },
   "outputs": [],
   "source": [
    "%%script false --no-raise-error\n",
    "\n",
    "#####################################################################\n",
    "# A function that plots market share of any bank in any year by CSA #\n",
    "#####################################################################\n",
    "\n",
    "def plot_bank(bank,year):\n",
    "    \n",
    "    # Read the US states GeoJSON file\n",
    "    gdf = gpd.read_file('../RawData/MSA/US-counties.geojson')\n",
    "    gdf = gdf[gdf['STATE']!='02']\n",
    "    gdf = gdf[gdf['STATE']!='15']\n",
    "    gdf = gdf[gdf['STATE']!='72']\n",
    "    gdf = gdf.rename(columns={'STATE':'FIPS State Code','COUNTY':'FIPS County Code'})\n",
    "    \n",
    "    gdf['FIPS State Code'] = gdf['FIPS State Code'].astype(int)\n",
    "    gdf['FIPS County Code'] = gdf['FIPS County Code'].astype(int)\n",
    "    gdf = gdf.merge(CBSAData[['FIPS State Code','FIPS County Code','CSA Code']],on=['FIPS State Code','FIPS County Code'],how='outer')\n",
    "        \n",
    "    fig, ax = plt.subplots(1, 1, figsize=(12, 8))\n",
    "    \n",
    "    deals_by_CSA_bank_onebank_oneyear = deals_by_CSA_bank_year\\\n",
    "        [(deals_by_CSA_bank_year['name_GPF']==bank)&(deals_by_CSA_bank_year['sale_year']==year)]\n",
    "    # Merge the GeoDataFrame with data\n",
    "    gdf = gdf.merge(deals_by_CSA_bank_onebank_oneyear,on=['CSA Code'],how='outer')\n",
    "    gdf.loc[pd.isnull(gdf['CSA_market_share']),'CSA_market_share'] = 0\n",
    "    gdf = gdf.set_index(['FIPS State Code','FIPS County Code'])\n",
    "    gdf.plot(column='CSA_market_share', cmap='Reds', edgecolor='0.8', ax=ax, legend=True, legend_kwds={'shrink': 0.5})\n",
    "    ax.axis(\"off\")\n",
    "    ax.set_title(bank)\n",
    "\n",
    "plot_bank('FLEET BANK',1987)"
   ]
  },
  {
   "cell_type": "markdown",
   "id": "300000ff-50c4-4eac-972a-d1a6bd93030f",
   "metadata": {},
   "source": [
    "### 2.2.2 A function that plots market share of two banks in any year by CSA"
   ]
  },
  {
   "cell_type": "code",
   "execution_count": 6,
   "id": "67063707-3b6d-4879-9af4-e950bdbbd2bf",
   "metadata": {
    "execution": {
     "iopub.execute_input": "2024-03-03T08:07:19.103984Z",
     "iopub.status.busy": "2024-03-03T08:07:19.103915Z",
     "iopub.status.idle": "2024-03-03T08:07:19.119487Z",
     "shell.execute_reply": "2024-03-03T08:07:19.119132Z"
    }
   },
   "outputs": [],
   "source": [
    "%%script false --no-raise-error\n",
    "\n",
    "def plot_bank(bank1,bank2,year,path,custom_cmap):\n",
    "    \n",
    "    # Read the US states GeoJSON file\n",
    "    gdf = gpd.read_file('../RawData/MSA/US-counties.geojson')\n",
    "    gdf = gdf[gdf['STATE']!='02']\n",
    "    gdf = gdf[gdf['STATE']!='15']\n",
    "    gdf = gdf[gdf['STATE']!='72']\n",
    "    gdf = gdf.rename(columns={'STATE':'FIPS State Code','COUNTY':'FIPS County Code'})\n",
    "    \n",
    "    gdf['FIPS State Code'] = gdf['FIPS State Code'].astype(int)\n",
    "    gdf['FIPS County Code'] = gdf['FIPS County Code'].astype(int)\n",
    "    gdf = gdf.merge(CBSAData[['FIPS State Code','FIPS County Code','CSA Code']],on=['FIPS State Code','FIPS County Code'],how='outer')\n",
    "\n",
    "    fig, axes = plt.subplots(1, 2, figsize=(16, 8), sharex=True, sharey=True)\n",
    "    vmin = np.min(deals_by_state_bank[deals_by_state_bank['name_GPF'].isin([bank1,bank2])]['state_market_share'])\n",
    "    vmax = np.max(deals_by_state_bank[deals_by_state_bank['name_GPF'].isin([bank1,bank2])]['state_market_share'])\n",
    "\n",
    "    banks = [bank1,bank2]\n",
    "    \n",
    "    deals_by_CSA_bank_onebank_oneyear = deals_by_CSA_bank_year\\\n",
    "        [(deals_by_CSA_bank_year['name_GPF']==banks[0])&(deals_by_CSA_bank_year['sale_year']==year)]\n",
    "    # Merge the GeoDataFrame with data\n",
    "    gdf_withdata = gdf.merge(deals_by_CSA_bank_onebank_oneyear,on=['CSA Code'],how='outer')\n",
    "    gdf_withdata.loc[pd.isnull(gdf_withdata['CSA_market_share']),'CSA_market_share'] = 0\n",
    "    gdf_withdata = gdf_withdata.set_index(['FIPS State Code','FIPS County Code'])\n",
    "    gdf_withdata.plot(column='CSA_market_share', cmap=custom_cmap, edgecolor='0.9', ax=axes[0], legend=False, \n",
    "        legend_kwds={'shrink': 0.5},vmin=vmin, vmax=vmax)\n",
    "    axes[0].axis(\"off\")\n",
    "    # axes[0].set_title(banks[0]+\" \"+str(year))\n",
    "    # For formatting, manually set name strings\n",
    "    name = banks[0]\n",
    "    if name==\"RAFFENSPERGERHUGHES & COINC\":\n",
    "        name = \"Raffensperger, Hughes & Co.\"\n",
    "    if name==\"NATIONAL CITY BANK\":\n",
    "        name = \"National City Bank\"\n",
    "    if name==\"SUNTRUST BANK\":\n",
    "        name = \"SunTrust Bank\"\n",
    "    if name==\"EQUITABLE SECURITIES\":\n",
    "        name = \"Equitable Securities\"\n",
    "    if name==\"RBC BANK\":\n",
    "        name = \"RBC Bank\"\n",
    "    if name==\"WILLIAM R HOUGH\":\n",
    "        name = \"William R. Hough\"\n",
    "    if name==\"STIFEL NICOLAUS\":\n",
    "        name = \"Stifel\"\n",
    "    if name==\"GEORGE K BAUM\":\n",
    "        name = \"George K. Baum\"\n",
    "    axes[0].set_title(name+\" in \"+str(year))\n",
    "\n",
    "    deals_by_CSA_bank_onebank_oneyear = deals_by_CSA_bank_year\\\n",
    "        [(deals_by_CSA_bank_year['name_GPF']==banks[1])&(deals_by_CSA_bank_year['sale_year']==year)]\n",
    "    # Merge the GeoDataFrame with data\n",
    "    gdf_withdata = gdf.merge(deals_by_CSA_bank_onebank_oneyear,on=['CSA Code'],how='outer')\n",
    "    gdf_withdata.loc[pd.isnull(gdf_withdata['CSA_market_share']),'CSA_market_share'] = 0\n",
    "    gdf_withdata = gdf_withdata.set_index(['FIPS State Code','FIPS County Code'])\n",
    "    gdf_withdata.plot(column='CSA_market_share', cmap=custom_cmap, edgecolor='0.9', ax=axes[1], legend=False, \n",
    "        legend_kwds={'shrink': 0.5},vmin=vmin, vmax=vmax)\n",
    "    axes[1].axis(\"off\")\n",
    "    # axes[1].set_title(banks[1]+\" \"+str(year))\n",
    "    # For formatting, manually set name strings\n",
    "    name = banks[1]\n",
    "    if name==\"RAFFENSPERGERHUGHES & COINC\":\n",
    "        name = \"Raffensperger, Hughes & Co.\"\n",
    "    if name==\"NATIONAL CITY BANK\":\n",
    "        name = \"National City Bank\"\n",
    "    if name==\"SUNTRUST BANK\":\n",
    "        name = \"SunTrust Bank\"\n",
    "    if name==\"EQUITABLE SECURITIES\":\n",
    "        name = \"Equitable Securities\"\n",
    "    if name==\"RBC BANK\":\n",
    "        name = \"RBC Bank\"\n",
    "    if name==\"WILLIAM R HOUGH\":\n",
    "        name = \"William R. Hough\"\n",
    "    if name==\"STIFEL NICOLAUS\":\n",
    "        name = \"Stifel\"\n",
    "    if name==\"GEORGE K BAUM\":\n",
    "        name = \"George K. Baum\"\n",
    "    axes[1].set_title(name+\" in \"+str(year))\n",
    "\n",
    "    # Put panels closer\n",
    "    plt.subplots_adjust(wspace=-0.05)\n",
    "    \n",
    "    # Define a mappable based on which the colorbar will be drawn\n",
    "    mappable = cm.ScalarMappable(\n",
    "        norm=mcolors.Normalize(vmin, vmax),\n",
    "        cmap=custom_cmap)\n",
    "    # Define position and extent of colorbar\n",
    "    cb_ax = fig.add_axes([0.2, 0.25, 0.6, 0.01])\n",
    "    # Draw colorbar\n",
    "    cbar = fig.colorbar(mappable, cax=cb_ax, orientation='horizontal')\n",
    "\n",
    "    fig.savefig(path, format='eps', bbox_inches='tight')"
   ]
  },
  {
   "cell_type": "markdown",
   "id": "6603c62d-2469-4f06-8f16-32874982cc0a",
   "metadata": {},
   "source": [
    "## 2.3 Export figure"
   ]
  },
  {
   "cell_type": "code",
   "execution_count": 7,
   "id": "aae21fb7-dbf6-46f0-a1b0-d80e4db8891d",
   "metadata": {
    "execution": {
     "iopub.execute_input": "2024-03-03T08:07:19.120960Z",
     "iopub.status.busy": "2024-03-03T08:07:19.120886Z",
     "iopub.status.idle": "2024-03-03T08:07:19.136296Z",
     "shell.execute_reply": "2024-03-03T08:07:19.135963Z"
    }
   },
   "outputs": [],
   "source": [
    "%%script false --no-raise-error\n",
    "\n",
    "warnings.filterwarnings(\"ignore\", category=DeprecationWarning)\n",
    "\n",
    "plot_bank('SUNTRUST BANK','EQUITABLE SECURITIES',1995,\"../Draft/figs/Merger_Example1.eps\",'Greens')\n",
    "plot_bank('RBC BANK','WILLIAM R HOUGH',2001,\"../Draft/figs/Merger_Example2.eps\",'Blues')\n",
    "plot_bank('STIFEL NICOLAUS','GEORGE K BAUM',2018,\"../Draft/figs/Merger_Example3.eps\",'Reds')\n"
   ]
  }
 ],
 "metadata": {
  "kernelspec": {
   "display_name": "Python 3 (ipykernel)",
   "language": "python",
   "name": "python3"
  },
  "language_info": {
   "codemirror_mode": {
    "name": "ipython",
    "version": 3
   },
   "file_extension": ".py",
   "mimetype": "text/x-python",
   "name": "python",
   "nbconvert_exporter": "python",
   "pygments_lexer": "ipython3",
   "version": "3.11.4"
  }
 },
 "nbformat": 4,
 "nbformat_minor": 5
}
